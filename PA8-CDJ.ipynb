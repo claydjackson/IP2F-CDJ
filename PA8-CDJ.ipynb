{
 "cells": [
  {
   "cell_type": "markdown",
   "id": "d4eed2c8",
   "metadata": {},
   "source": [
    "### PA8, Version 1, Clay Jackson, CS-150 Spring 2023"
   ]
  },
  {
   "cell_type": "code",
   "execution_count": 1,
   "id": "856f2f8b",
   "metadata": {},
   "outputs": [],
   "source": [
    "import numpy as np"
   ]
  },
  {
   "cell_type": "code",
   "execution_count": 2,
   "id": "1c341e49",
   "metadata": {},
   "outputs": [],
   "source": [
    "# #1\n",
    "A=np.array([[10,20],[30,40]])"
   ]
  },
  {
   "cell_type": "code",
   "execution_count": 4,
   "id": "2337680e",
   "metadata": {},
   "outputs": [
    {
     "name": "stdout",
     "output_type": "stream",
     "text": [
      "[[ 100  400]\n",
      " [ 900 1600]]\n"
     ]
    }
   ],
   "source": [
    "Squared=A**2\n",
    "\n",
    "print(Squared)"
   ]
  },
  {
   "cell_type": "code",
   "execution_count": 5,
   "id": "ebee4ae6",
   "metadata": {},
   "outputs": [
    {
     "name": "stdout",
     "output_type": "stream",
     "text": [
      "[[110 120]\n",
      " [130 140]]\n"
     ]
    }
   ],
   "source": [
    "Add=A+100\n",
    "print(Add)"
   ]
  },
  {
   "cell_type": "code",
   "execution_count": 6,
   "id": "e98d6cd8",
   "metadata": {},
   "outputs": [
    {
     "name": "stdout",
     "output_type": "stream",
     "text": [
      "[[ 50 100]\n",
      " [150 200]]\n"
     ]
    }
   ],
   "source": [
    "Multiply=A*5\n",
    "print(Multiply)"
   ]
  },
  {
   "cell_type": "code",
   "execution_count": 8,
   "id": "b8c61129",
   "metadata": {},
   "outputs": [
    {
     "name": "stdout",
     "output_type": "stream",
     "text": [
      "[[3.16227766 4.47213595]\n",
      " [5.47722558 6.32455532]]\n"
     ]
    }
   ],
   "source": [
    "Square_Root=np.sqrt(A)\n",
    "print(Square_Root)"
   ]
  },
  {
   "cell_type": "code",
   "execution_count": 9,
   "id": "0f279e48",
   "metadata": {},
   "outputs": [
    {
     "name": "stdout",
     "output_type": "stream",
     "text": [
      "[[ 3  6  9]\n",
      " [12 15 18]\n",
      " [21 24 27]]\n"
     ]
    }
   ],
   "source": [
    "# #2\n",
    "A1=np.array([[3,6,9], [12,15,18], [21,24,27]])\n",
    "print(A1)"
   ]
  },
  {
   "cell_type": "code",
   "execution_count": 10,
   "id": "0c4c3540",
   "metadata": {},
   "outputs": [
    {
     "name": "stdout",
     "output_type": "stream",
     "text": [
      "[[10.   11.25 12.5 ]\n",
      " [13.75 15.   16.25]\n",
      " [17.5  18.75 20.  ]]\n"
     ]
    }
   ],
   "source": [
    "A2=np.linspace(10,20,9).reshape(3,3)\n",
    "print(A2)"
   ]
  },
  {
   "cell_type": "code",
   "execution_count": 11,
   "id": "d008730e",
   "metadata": {},
   "outputs": [
    {
     "name": "stdout",
     "output_type": "stream",
     "text": [
      "[[ 30.   67.5 112.5]\n",
      " [165.  225.  292.5]\n",
      " [367.5 450.  540. ]]\n"
     ]
    }
   ],
   "source": [
    "Multiplied_Array=A1*A2\n",
    "print(Multiplied_Array)"
   ]
  },
  {
   "cell_type": "code",
   "execution_count": 16,
   "id": "9abc1d6d",
   "metadata": {},
   "outputs": [],
   "source": [
    "# #3\n",
    "\n",
    "process1=np.load('process1.npy')\n",
    "process2=np.load('process2.npy')\n",
    "process3=np.load('process3.npy')\n",
    "process4=np.load('process4.npy')\n",
    "process5=np.load('process5.npy')"
   ]
  },
  {
   "cell_type": "code",
   "execution_count": 19,
   "id": "fdee056c",
   "metadata": {},
   "outputs": [
    {
     "name": "stdout",
     "output_type": "stream",
     "text": [
      "[[[52 12 81  0 58]]\n",
      "\n",
      " [[96  4 61 16 43]]\n",
      "\n",
      " [[38 96 45 17 58]]\n",
      "\n",
      " [[97 21 22 25  6]]\n",
      "\n",
      " [[77  6 19  2 74]]]\n"
     ]
    }
   ],
   "source": [
    "My_dataset=np.stack([process1,process2,process3,process4,process5])\n",
    "print(My_dataset)"
   ]
  },
  {
   "cell_type": "code",
   "execution_count": 20,
   "id": "d6344351",
   "metadata": {},
   "outputs": [
    {
     "name": "stdout",
     "output_type": "stream",
     "text": [
      "[[72.  27.8 45.6 12.  47.8]]\n"
     ]
    }
   ],
   "source": [
    "Mean=np.mean(My_dataset, axis=0)\n",
    "print(Mean)"
   ]
  },
  {
   "cell_type": "code",
   "execution_count": null,
   "id": "17172abc",
   "metadata": {},
   "outputs": [],
   "source": []
  }
 ],
 "metadata": {
  "kernelspec": {
   "display_name": "Python 3 (ipykernel)",
   "language": "python",
   "name": "python3"
  },
  "language_info": {
   "codemirror_mode": {
    "name": "ipython",
    "version": 3
   },
   "file_extension": ".py",
   "mimetype": "text/x-python",
   "name": "python",
   "nbconvert_exporter": "python",
   "pygments_lexer": "ipython3",
   "version": "3.9.13"
  }
 },
 "nbformat": 4,
 "nbformat_minor": 5
}
